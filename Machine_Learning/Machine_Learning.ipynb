{
 "cells": [
  {
   "cell_type": "markdown",
   "id": "39ebb598",
   "metadata": {},
   "source": [
    "# Machine Learning\n",
    "\n",
    "- Machine learning is a method of data analysis that automates analytical model building. \n",
    "- Using algorithms that iteratively learn from data, machine learning allows computers to find hidden insight without being explicitly programmed where to look.  "
   ]
  },
  {
   "cell_type": "markdown",
   "id": "d44b0532",
   "metadata": {},
   "source": [
    "## What is it used for?\n",
    "- Fraud detection\n",
    "- Web search results\n",
    "- Real-time ads on web pages\n",
    "- Credit scoring and next-best offers\n",
    "- Prediction of equipment failures\n",
    "- New pricing models\n",
    "- Network intrusion detection\n",
    "- Recommendation Engines\n",
    "- Customer Segmentation\n",
    "- Predicting Customer Churn\n",
    "- Pattern and image recoginition\n",
    "- Email spam filtering\n",
    "- Financial Modeling"
   ]
  },
  {
   "cell_type": "markdown",
   "id": "70a39aff",
   "metadata": {},
   "source": [
    "## Machine Learning Process"
   ]
  },
  {
   "cell_type": "markdown",
   "id": "12f1ee23",
   "metadata": {},
   "source": [
    "Data Acquisition > Data Cleaning > Model Training & Building > Model Testing > Model Deployment  \n",
    "\n",
    "Data Cleaning > Test Data > Model Testing  \n",
    "\n",
    "Model Testing > Model Training & Building"
   ]
  },
  {
   "cell_type": "markdown",
   "id": "ea0b5cdd",
   "metadata": {},
   "source": [
    "## Machine Learning Types"
   ]
  },
  {
   "cell_type": "markdown",
   "id": "7914e1fd",
   "metadata": {},
   "source": [
    "### There are 3 types of Machine Learning Algorithms\n",
    "- Supervised Learning\n",
    "    - You have labeled data and are trying to predict a label based off of known features\n",
    "    - Supervised Learning Algorithms are trained using label examples, such as an input where the desired opt is known\n",
    "        - Ex. A piece of equipment could have data points labeled either \"F\" (Failed) or \"R\" (Runs)\n",
    "    - The learning algorithm receives set of input along with the corresponding correct outputs, and the algorithm learns by comparing its actual output with correct outputs to find errors. It then midifies the model accordingly.\n",
    "    - Through methods like classification, regression, prediction, and gradient boosting, supercised learning uses patterns to predict the values of the label on additional unlabeled data.\n",
    "    - Supervised learning is commonly used in application where historical data predicts likely future events\n",
    "        - Ex. It can anticipate when credit card transactions are likely to be fraudulent or which insurance customer is likely to file a claim.\n",
    "        - Or it can attempt to predict the price of a house based on different features for houses for which we have historical price data\n",
    "    \n",
    "- Unsupervised Learning\n",
    "    - You have unlabeled data and truing to group together similar data points based off of features\n",
    "        - Unsupervised Learning is used against data that has no historical labels\n",
    "        - The system is not told the \"right answer\". The algorithm must figure out what is being shown.\n",
    "        - The goal is to explore the data and find some structure within\n",
    "        - Or it can find the main attributes that separate customer segments from each other.\n",
    "        - Popular techniques include self-organizing maps, nearest-neighbor mapping, k-means clustering and singular value decomposition\n",
    "        - These algorithms are also used to segment text topics, recommend items and identify data outliers.\n",
    "        \n",
    "- Reinforcement Learning\n",
    "    - Algorithm learns to perform an action from experience\n",
    "    - Reinforcement Learning is often used for robotics, gaming, and navigation\n",
    "    - With reinforcement learning, the algorithm discovers through \"Trial and Error\" which actions yield the greatest rewards.\n",
    "    - This type of learning has three primary components: the agent (the learner or decision maker), the environment (everything the agent interacts with) and actions (what the agent can do)\n",
    "    - The objective is for the agent to choose actions that maximize the expected reward over a given amount of time\n",
    "    - The agent will reach the goal much faster by following a god policy\n",
    "    - So the goal in reinforement learning is to learn the best policy"
   ]
  },
  {
   "cell_type": "markdown",
   "id": "f4c2ecc5",
   "metadata": {},
   "source": [
    "### Linear Regression"
   ]
  },
  {
   "cell_type": "markdown",
   "id": "5bf53930",
   "metadata": {},
   "source": [
    "#### Bias Variance Trade-off\n",
    "- Bias: High error due to assumption\n",
    "- Variance: Error due to an overly-complex that tries to fit the training data as closely as possible\n",
    "- Trade-off: A balance achieved between two desirable but incompatible features; a compromise\n",
    "- The Bias-Variance trade-off is the point where we are adding model complexity (flexibility)\n",
    "    - Error = noise + Bias**2 + Varience\n",
    "- The training error goes down as it has to, but the test error is starting to go up\n",
    "- The model after the bias trade-off begins to overfit"
   ]
  },
  {
   "cell_type": "markdown",
   "id": "208cec75",
   "metadata": {},
   "source": [
    "### Logistic Regression"
   ]
  },
  {
   "cell_type": "markdown",
   "id": "e6bf5ca1",
   "metadata": {},
   "source": [
    "- Logistic Regression is a method for Classification\n",
    "- Although the name may be confusing at first, logistic regression allows us to solve classification problems, where we are trying to predict discrete categories\n",
    "- The convention for binary classification is to have two classes 0 and 1\n",
    "- We can't use a normal linear regression model on binary groups. It won't lead to good fit\n",
    "- Instead we can transform our linear regression to a logistic regression curve\n",
    "- The Sigmoid (aka. Logistic) Function takes in any value and outputs it to be between 0 and 1\n",
    "- The means we can take our Linear Regression Solution and place it into the Sigmoid Function\n",
    "- We can set a cutoff point at 0.5, anything below it results in class 0, anything above is class 1"
   ]
  },
  {
   "cell_type": "markdown",
   "id": "a581bbf5",
   "metadata": {},
   "source": [
    "### Model Evaluation"
   ]
  },
  {
   "cell_type": "markdown",
   "id": "31ff509a",
   "metadata": {},
   "source": [
    "- After you train a logistic regression model on some training data, you will evaluate your model's performance on some test data.\n",
    "- You can use a confusion matrix to evaluate classification models.\n",
    "- Basic Terminology\n",
    "    - True Positives (TP)\n",
    "    - True Negatives (TN)\n",
    "    - False Positves (FP)\n",
    "    - False Negatives (FN)"
   ]
  },
  {
   "cell_type": "markdown",
   "id": "25e39ac3",
   "metadata": {},
   "source": [
    "### K Nearest Neighbors (Knn)"
   ]
  },
  {
   "cell_type": "markdown",
   "id": "7af585fa",
   "metadata": {},
   "source": [
    "- Training Algorithm\n",
    "    1. Prepare all label dataset for comparing a new data\n",
    "    2. Choose k points of Nearest Neighbors\n",
    "- Prediction Algorithm\n",
    "    1. Calculate the distance from x (unknown data) from k closest\n",
    "    2. Predict the majority label of the k closest"
   ]
  },
  {
   "cell_type": "markdown",
   "id": "1e700bfc",
   "metadata": {},
   "source": [
    "### Decision Trees and Random Forests"
   ]
  },
  {
   "cell_type": "markdown",
   "id": "e5a9f611",
   "metadata": {},
   "source": [
    "#### Tree Method\n",
    "- Nodes (box) \n",
    "    - Split for the value of a certain attribute  \n",
    "- Edges (arrow)\n",
    "    - Outcome of a split to next node\n",
    "- Root\n",
    "    - The node that performs the first split\n",
    "- Leaves\n",
    "    - Terminal nodes that predict the outcome"
   ]
  },
  {
   "cell_type": "markdown",
   "id": "61f02d63",
   "metadata": {},
   "source": [
    "#### Entropy and Information Gain\n",
    "- The mathematical Methods of choosing the best split  \n",
    "    - Entropy\n",
    "    - Information Gain"
   ]
  },
  {
   "cell_type": "markdown",
   "id": "d5251303",
   "metadata": {},
   "source": [
    "#### Random Forests\n",
    "- To improve performance, we can use many trees with a random sample of features chosen as the split\n",
    "    - A new random sample of features is chosen for every single tree at every single split\n",
    "    - For Classificationn, m is typically chosen to be the square root of p\n",
    "    - Suppose there is one very strong feature in the dataset. When using \"bagged\" trees, most of the trees will use the feature as the top split, resulting in an ensemble of similar trees that are highly correlated\n",
    "    - Averaging highly correlated quantities does not significantly reduce variance\n",
    "    - By randomly leaving out candidate features from each split, Random Forests \"decorrelates\" the trees, such that the averaging process can reduce the variance of the"
   ]
  },
  {
   "cell_type": "markdown",
   "id": "787e7d0a",
   "metadata": {},
   "source": [
    "## Support Vector Machines (SVM)"
   ]
  },
  {
   "cell_type": "markdown",
   "id": "bc066899",
   "metadata": {},
   "source": [
    "Support vector machines (SVMs) are supervised learning models with associated learning algorithms that analyze data and recognize patterns, used for classification and regression analysis"
   ]
  },
  {
   "cell_type": "markdown",
   "id": "84ac1e83",
   "metadata": {},
   "source": [
    "Given a set of training examples, each marked for belonging to one of two categories, an SVM training algorithm builds a model that assigns new wxamples into one category or the other, making it a non-probabilistic binary linear classifier"
   ]
  },
  {
   "cell_type": "markdown",
   "id": "644b9c9f",
   "metadata": {},
   "source": [
    "An SVM model is a representation of the examples as points in space, mapped so that the examples of the separate categories are divided by a clear gop that is as wide as possible.  \n",
    "\n",
    "New examples are then mapped into that same space and predicted to beling to a category based on which side the gap they fall on.   \n",
    "\n",
    "Hyperplanes - maximizes the margin between classes  "
   ]
  },
  {
   "cell_type": "code",
   "execution_count": null,
   "id": "5af0161d",
   "metadata": {},
   "outputs": [],
   "source": []
  }
 ],
 "metadata": {
  "kernelspec": {
   "display_name": "Python 3 (ipykernel)",
   "language": "python",
   "name": "python3"
  },
  "language_info": {
   "codemirror_mode": {
    "name": "ipython",
    "version": 3
   },
   "file_extension": ".py",
   "mimetype": "text/x-python",
   "name": "python",
   "nbconvert_exporter": "python",
   "pygments_lexer": "ipython3",
   "version": "3.11.3"
  }
 },
 "nbformat": 4,
 "nbformat_minor": 5
}
